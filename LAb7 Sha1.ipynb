{
 "cells": [
  {
   "cell_type": "code",
   "execution_count": 7,
   "id": "5c5d27fa",
   "metadata": {},
   "outputs": [
    {
     "name": "stdout",
     "output_type": "stream",
     "text": [
      "Enter your messageOnkar\n",
      "Onkar\n",
      "SHA-1 hash: 41e6e70e056ce0f077b9478fe59b86892c3e7bdf\n"
     ]
    }
   ],
   "source": [
    "import hashlib\n",
    "\n",
    "def sha1(message):\n",
    "   # generate a SHA-1 hash object\n",
    "   sha1_hash = hashlib.sha1()\n",
    "\n",
    "   # update the hash object \n",
    "   sha1_hash.update(message.encode('utf-8'))\n",
    "\n",
    "   # hexadecimal digest of the hash\n",
    "   return sha1_hash.hexdigest()\n",
    "\n",
    "# execute the function\n",
    "message = input(\"Enter your message\")\n",
    "print(message)\n",
    "sha1_hash = sha1(message)\n",
    "print(\"SHA-1 hash:\", sha1_hash)"
   ]
  }
 ],
 "metadata": {
  "kernelspec": {
   "display_name": "Python 3 (ipykernel)",
   "language": "python",
   "name": "python3"
  },
  "language_info": {
   "codemirror_mode": {
    "name": "ipython",
    "version": 3
   },
   "file_extension": ".py",
   "mimetype": "text/x-python",
   "name": "python",
   "nbconvert_exporter": "python",
   "pygments_lexer": "ipython3",
   "version": "3.9.12"
  }
 },
 "nbformat": 4,
 "nbformat_minor": 5
}
