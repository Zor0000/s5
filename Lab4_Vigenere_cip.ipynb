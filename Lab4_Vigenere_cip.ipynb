{
 "cells": [
  {
   "cell_type": "code",
   "execution_count": 1,
   "id": "c42b0d7e",
   "metadata": {},
   "outputs": [
    {
     "name": "stdout",
     "output_type": "stream",
     "text": [
      "Enter the message: Neeraj\n",
      "Enter the key: hill\n",
      "Encrypted message: Umpchr\n",
      "Decrypted message: Neeraj\n"
     ]
    }
   ],
   "source": [
    "def vigenere_encrypt(message, key):\n",
    "    encrypted = \"\"\n",
    "    key_index = 0\n",
    "    key = key.upper()\n",
    "\n",
    "    for char in message:\n",
    "        if char.isalpha():\n",
    "            base = 'A' if char.isupper() else 'a'\n",
    "            shift = ord(key[key_index % len(key)]) - ord('A')\n",
    "            encrypted += chr((ord(char) - ord(base) + shift) % 26 + ord(base))\n",
    "            key_index += 1  # Move to the next letter in the key\n",
    "        else:\n",
    "            encrypted += char  # Non-alphabetic characters are unchanged\n",
    "    return encrypted\n",
    "\n",
    "\n",
    "def vigenere_decrypt(encrypted_message, key):\n",
    "    decrypted = \"\"\n",
    "    key_index = 0\n",
    "    key = key.upper()\n",
    "\n",
    "    for char in encrypted_message:\n",
    "        if char.isalpha():\n",
    "            base = 'A' if char.isupper() else 'a'\n",
    "            shift = ord(key[key_index % len(key)]) - ord('A')\n",
    "            decrypted += chr((ord(char) - ord(base) - shift) % 26 + ord(base))\n",
    "            key_index += 1  # Move to the next letter in the key\n",
    "        else:\n",
    "            decrypted += char  # Non-alphabetic characters are unchanged\n",
    "    return decrypted\n",
    "\n",
    "\n",
    "# User input\n",
    "message = input(\"Enter the message: \")\n",
    "key = input(\"Enter the key: \")\n",
    "\n",
    "# Encrypt and decrypt the message\n",
    "encrypted_message = vigenere_encrypt(message, key)\n",
    "decrypted_message = vigenere_decrypt(encrypted_message, key)\n",
    "\n",
    "# Display results\n",
    "print(\"Encrypted message:\", encrypted_message)\n",
    "print(\"Decrypted message:\", decrypted_message)"
   ]
  },
  {
   "cell_type": "code",
   "execution_count": null,
   "id": "cb75d1a3",
   "metadata": {},
   "outputs": [],
   "source": []
  }
 ],
 "metadata": {
  "kernelspec": {
   "display_name": "Python 3 (ipykernel)",
   "language": "python",
   "name": "python3"
  },
  "language_info": {
   "codemirror_mode": {
    "name": "ipython",
    "version": 3
   },
   "file_extension": ".py",
   "mimetype": "text/x-python",
   "name": "python",
   "nbconvert_exporter": "python",
   "pygments_lexer": "ipython3",
   "version": "3.9.12"
  }
 },
 "nbformat": 4,
 "nbformat_minor": 5
}
