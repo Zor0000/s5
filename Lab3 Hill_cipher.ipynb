{
 "cells": [
  {
   "cell_type": "code",
   "execution_count": 2,
   "id": "48a25e62",
   "metadata": {},
   "outputs": [
    {
     "name": "stdout",
     "output_type": "stream",
     "text": [
      "Enter the plaintext: neeraj\n",
      "\n",
      "Key Matrix:\n",
      "[[6, 24, 1], [13, 16, 10], [20, 17, 15]]\n",
      "\n",
      "Plaintext: neeraj\n",
      "Encrypted: CCJWPW\n",
      "Decrypted: NEERAJ\n"
     ]
    }
   ],
   "source": [
    "import numpy as np\n",
    "import math\n",
    "\n",
    "\n",
    "def mod_inverse(matrix, modulus):\n",
    "    det = int(round(np.linalg.det(matrix)))\n",
    "    det_inv = pow(det, -1, modulus)\n",
    "    matrix_mod_inv = (\n",
    "        det_inv * np.round(det * np.linalg.inv(matrix)).astype(int) % modulus\n",
    "    )\n",
    "    return matrix_mod_inv\n",
    "\n",
    "\n",
    "def text_to_matrix(text, size):\n",
    "    text = text.upper().replace(\" \", \"\")\n",
    "    text_values = [ord(char) - ord(\"A\") for char in text]\n",
    "    while len(text_values) % size != 0:\n",
    "        text_values.append(ord(\"X\") - ord(\"A\"))\n",
    "    matrix = np.array(text_values).reshape(-1, size)\n",
    "    return matrix\n",
    "\n",
    "\n",
    "def matrix_to_text(matrix):\n",
    "    text = \"\"\n",
    "    for row in matrix:\n",
    "        for value in row:\n",
    "            text += chr((value % 26) + ord(\"A\"))\n",
    "    return text\n",
    "\n",
    "\n",
    "def hill_encrypt(key, plaintext):\n",
    "    key_size = len(key)\n",
    "    plaintext_matrix = text_to_matrix(plaintext, key_size)\n",
    "    encrypted_matrix = np.dot(plaintext_matrix, key) % 26\n",
    "    return matrix_to_text(encrypted_matrix)\n",
    "\n",
    "\n",
    "def hill_decrypt(key, ciphertext):\n",
    "    key_size = len(key)\n",
    "    ciphertext_matrix = text_to_matrix(ciphertext, key_size)\n",
    "    key_inverse = mod_inverse(key, 26)\n",
    "    decrypted_matrix = np.dot(ciphertext_matrix, key_inverse) % 26\n",
    "    return matrix_to_text(decrypted_matrix)\n",
    "\n",
    "\n",
    "plaintext = input(\"Enter the plaintext: \").strip()\n",
    "key = [[6, 24, 1], [13, 16, 10], [20, 17, 15]]\n",
    "\n",
    "ciphertext = hill_encrypt(key, plaintext)\n",
    "decrypted_text = hill_decrypt(key, ciphertext)\n",
    "\n",
    "print(\"\\nKey Matrix:\")\n",
    "print(key)\n",
    "print(f\"\\nPlaintext: {plaintext}\")\n",
    "print(f\"Encrypted: {ciphertext}\")\n",
    "print(f\"Decrypted: {decrypted_text}\")\n"
   ]
  },
  {
   "cell_type": "code",
   "execution_count": null,
   "id": "7660dea9",
   "metadata": {},
   "outputs": [],
   "source": []
  }
 ],
 "metadata": {
  "kernelspec": {
   "display_name": "Python 3 (ipykernel)",
   "language": "python",
   "name": "python3"
  },
  "language_info": {
   "codemirror_mode": {
    "name": "ipython",
    "version": 3
   },
   "file_extension": ".py",
   "mimetype": "text/x-python",
   "name": "python",
   "nbconvert_exporter": "python",
   "pygments_lexer": "ipython3",
   "version": "3.9.12"
  }
 },
 "nbformat": 4,
 "nbformat_minor": 5
}
