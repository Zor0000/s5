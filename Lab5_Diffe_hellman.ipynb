{
 "cells": [
  {
   "cell_type": "code",
   "execution_count": 3,
   "id": "7af11010",
   "metadata": {},
   "outputs": [
    {
     "name": "stdout",
     "output_type": "stream",
     "text": [
      "The value of q: 23\n",
      "The value of P: 9\n",
      "The private key a for Alice: 4\n",
      "The private key b for Bob: 3\n",
      "Secret key for Alice is: 9\n",
      "Secret key for Bob is: 9\n"
     ]
    }
   ],
   "source": [
    "# Diffie-Hellman Code\n",
    "\n",
    "# Power function to return value of a^b mod q\n",
    "def power(a, b, q):\n",
    "    if b == 1:\n",
    "        return a\n",
    "    else:\n",
    "        return pow(a, b) % q\n",
    "\n",
    "# Main function\n",
    "def main():\n",
    "    # Both persons agree upon the public keys P and q\n",
    "    # A prime number q is taken\n",
    "    q = 23\n",
    "    print(\"The value of q:\", q)\n",
    "\n",
    "    # A primitive root for q, P is taken\n",
    "    P = 9\n",
    "    print(\"The value of P:\", P)\n",
    "\n",
    "    # Alice chooses the private key a\n",
    "    # a is the chosen private key\n",
    "    a = 4\n",
    "    print(\"The private key a for Alice:\", a)\n",
    "\n",
    "    # Gets the generated key\n",
    "    x = power(P, a, q)\n",
    "\n",
    "    # Bob chooses the private key b\n",
    "    # b is the chosen private key\n",
    "    b = 3\n",
    "    print(\"The private key b for Bob:\", b)\n",
    "\n",
    "    # Gets the generated key\n",
    "    y = power(P, b, q)\n",
    "\n",
    "    # Generating the secret key after the exchange of keys\n",
    "    ka = power(y, a, q)  # Secret key for Alice\n",
    "    kb = power(x, b, q)  # Secret key for Bob\n",
    "\n",
    "    print(\"Secret key for Alice is:\", ka)\n",
    "    print(\"Secret key for Bob is:\", kb)\n",
    "\n",
    "if __name__ == \"__main__\":\n",
    "    main()"
   ]
  }
 ],
 "metadata": {
  "kernelspec": {
   "display_name": "Python 3 (ipykernel)",
   "language": "python",
   "name": "python3"
  },
  "language_info": {
   "codemirror_mode": {
    "name": "ipython",
    "version": 3
   },
   "file_extension": ".py",
   "mimetype": "text/x-python",
   "name": "python",
   "nbconvert_exporter": "python",
   "pygments_lexer": "ipython3",
   "version": "3.9.12"
  }
 },
 "nbformat": 4,
 "nbformat_minor": 5
}
