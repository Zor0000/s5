{
 "cells": [
  {
   "cell_type": "code",
   "execution_count": 5,
   "id": "732f9c68",
   "metadata": {},
   "outputs": [
    {
     "name": "stdout",
     "output_type": "stream",
     "text": [
      "Hash of the input string:\n",
      "65c26c2985fe23dbca5805d2dc8ca25a\n"
     ]
    }
   ],
   "source": [
    "# importing the required libraries\n",
    "import hashlib\n",
    "# making a message\n",
    "inputstring = \"This is a message sent by a computer user.\"\n",
    "# encoding the message using the library function\n",
    "output = hashlib.md5(inputstring.encode())\n",
    "# printing the hash function\n",
    "print(\"Hash of the input string:\")\n",
    "print(output.hexdigest())"
   ]
  },
  {
   "cell_type": "code",
   "execution_count": null,
   "id": "604efd32",
   "metadata": {},
   "outputs": [],
   "source": []
  }
 ],
 "metadata": {
  "kernelspec": {
   "display_name": "Python 3 (ipykernel)",
   "language": "python",
   "name": "python3"
  },
  "language_info": {
   "codemirror_mode": {
    "name": "ipython",
    "version": 3
   },
   "file_extension": ".py",
   "mimetype": "text/x-python",
   "name": "python",
   "nbconvert_exporter": "python",
   "pygments_lexer": "ipython3",
   "version": "3.9.12"
  }
 },
 "nbformat": 4,
 "nbformat_minor": 5
}
