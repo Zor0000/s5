{
 "cells": [
  {
   "cell_type": "code",
   "execution_count": 3,
   "id": "4711332f",
   "metadata": {},
   "outputs": [
    {
     "name": "stdout",
     "output_type": "stream",
     "text": [
      "Enter the plain/cipher text: qhhudm\n",
      "If you want to encrypt the text, enter a positive shift value. \n",
      "If you want to decrypt the text enter a negative shift value. \n",
      "Enter the shift value: -3\n",
      "Text :  qhhudm\n",
      "Shift :  -3\n",
      "Result:  neeraj\n"
     ]
    }
   ],
   "source": [
    "def caesar_cipher(text, s): \n",
    "  result = \"\"\n",
    "  # Traversing the text\n",
    "  for char in text:\n",
    "    # Handling uppercase characters\n",
    "    if char.isupper():\n",
    "      result += chr((ord(char) + s - 65) % 26 + 65)\n",
    "    # Handling lowercase characters\n",
    "    elif char.islower():\n",
    "      result += chr((ord(char) + s - 97) % 26 + 97)\n",
    "    # If it's not an alphabetic character, leaving it unchanged\n",
    "    else:\n",
    "      result += char\n",
    "  return result\n",
    "\n",
    "text = input(\"Enter the plain/cipher text: \")\n",
    "s = int(input(\"If you want to encrypt the text, enter a positive shift value. \\nIf you want to decrypt the text enter a negative shift value. \\nEnter the shift value: \"))\n",
    "print(\"Text : \", text)\n",
    "print(\"Shift : \", str(s))\n",
    "print(\"Result: \", caesar_cipher(text, s))"
   ]
  }
 ],
 "metadata": {
  "kernelspec": {
   "display_name": "Python 3 (ipykernel)",
   "language": "python",
   "name": "python3"
  },
  "language_info": {
   "codemirror_mode": {
    "name": "ipython",
    "version": 3
   },
   "file_extension": ".py",
   "mimetype": "text/x-python",
   "name": "python",
   "nbconvert_exporter": "python",
   "pygments_lexer": "ipython3",
   "version": "3.9.12"
  }
 },
 "nbformat": 4,
 "nbformat_minor": 5
}
